{
 "cells": [
  {
   "cell_type": "code",
   "execution_count": 7,
   "metadata": {},
   "outputs": [],
   "source": [
    "import pandas as pd\n",
    "import requests\n",
    "from bs4 import BeautifulSoup\n",
    "\n",
    "df_team_names = pd.read_csv('inputs/all_sources_team_names.csv')\n",
    "team_names = df_team_names['fanfooty_team_name_long'].tolist()\n",
    "url = \"http://www.fanfooty.com.au/aflteams/\"\n",
    "df_player_list = pd.DataFrame()\n",
    "\n",
    "for team in team_names:\n",
    "    row_list = []\n",
    "    column_headers = []\n",
    "    res = requests.get(\"{}{}/\".format(url, team))\n",
    "    soup = BeautifulSoup(res.text, features='lxml')\n",
    "    table = soup.select(\"#content-area > table:nth-child(10)\")\n",
    "    table = table[0]\n",
    "    th = table.findAll(lambda tag: tag.name=='th')\n",
    "    for header in th:\n",
    "        column_headers.append(header.text)\n",
    "    rows = table.findAll(lambda tag: tag.name=='tr')\n",
    "    for tr in rows[1:]:\n",
    "        td = tr.find_all('td')\n",
    "        row = [tr.text for tr in td]\n",
    "        row_list.append(row)\n",
    "    df = pd.DataFrame(row_list, columns=column_headers)\n",
    "    df['team'] = team\n",
    "    df_player_list = pd.concat([df_player_list, df])\n",
    "    \n",
    "df_player_list['short_team'] = df_player_list['team'].map(dict(df_team_names[['fanfooty_team_name_long', 'footywire_team_name']].values))\n",
    "df_player_list"
   ]
  },
  {
   "cell_type": "code",
   "execution_count": null,
   "metadata": {},
   "outputs": [],
   "source": []
  }
 ],
 "metadata": {
  "kernelspec": {
   "display_name": "Python 3",
   "language": "python",
   "name": "python3"
  },
  "language_info": {
   "codemirror_mode": {
    "name": "ipython",
    "version": 3
   },
   "file_extension": ".py",
   "mimetype": "text/x-python",
   "name": "python",
   "nbconvert_exporter": "python",
   "pygments_lexer": "ipython3",
   "version": "3.7.4"
  }
 },
 "nbformat": 4,
 "nbformat_minor": 4
}
