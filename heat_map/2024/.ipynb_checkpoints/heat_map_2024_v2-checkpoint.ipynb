{
  "cells": [
    {
      "cell_type": "code",
      "metadata": {},
      "source": [
        "-- Install required libraries (if not already installed)\n",
        "!pip install pandas pyspark"
      ],
      "execution_count": null,
      "outputs": []
    },
    {
      "cell_type": "code",
      "metadata": {},
      "source": [
        "-- Import necessary modules\n",
        "from pyspark.sql import SparkSession\n",
        "import pandas as pd"
      ],
      "execution_count": null,
      "outputs": []
    },
    {
      "cell_type": "code",
      "metadata": {},
      "source": [
        "-- Start Spark session\n",
        "spark = SparkSession.builder.appName(\"DraftAnalysis\").getOrCreate()"
      ],
      "execution_count": null,
      "outputs": []
    },
    {
      "cell_type": "code",
      "metadata": {},
      "source": [
        "-- Load files into Spark DataFrames\n",
        "draft_data = spark.read.csv(\"/mnt/data/2024_draft_leagues_1283_recap_combined.csv\", header=True, inferSchema=True)\n",
        "player_data = spark.read.csv(\"/mnt/data/2024_SC_Player_list.csv\", header=True, inferSchema=True)"
      ],
      "execution_count": null,
      "outputs": []
    },
    {
      "cell_type": "code",
      "metadata": {},
      "source": [
        "-- Import functions from PySpark\n",
        "from pyspark.sql import functions as F"
      ],
      "execution_count": null,
      "outputs": []
    },
    {
      "cell_type": "code",
      "metadata": {},
      "source": [
        "-- Calculate median score\n",
        "median_data = player_data.groupBy(\"player_id\").agg(\n",
        "    F.expr('percentile_approx(points, 0.5)').alias('median_score')\n",
        ").orderBy(F.desc('median_score'))\n",
        "\n",
        "-- Replace NA values with 0\n",
        "median_data = median_data.fillna({'median_score': 0})"
      ],
      "execution_count": null,
      "outputs": []
    },
    {
      "cell_type": "code",
      "metadata": {},
      "source": [
        "-- Join dataframes\n",
        "heat_map_data = draft_data.join(\n",
        "    median_data, draft_data[\"player_id\"] == median_data[\"player_id\"], \"left\"\n",
        ")"
      ],
      "execution_count": null,
      "outputs": []
    },
    {
      "cell_type": "code",
      "metadata": {},
      "source": [
        "-- Normalize scores by position\n",
        "positions = ['DEF', 'MID', 'RUC', 'FWD']\n",
        "pos_count = [8*5, 8*7, 8*1, 8*5]\n",
        "\n",
        "for i, pos in enumerate(positions):\n",
        "    pos_data = heat_map_data.filter(\n",
        "        (heat_map_data[\"pos_1\"] == pos) | (heat_map_data[\"pos_2\"] == pos)\n",
        "    ).orderBy(F.desc('median_score'))\n",
        "\n",
        "    mean_score = pos_data.select(F.mean(\"median_score\")).collect()[0][0]\n",
        "    stdev_score = pos_data.select(F.stddev(\"median_score\")).collect()[0][0]\n",
        "\n",
        "    -- Calculate normalized scores\n",
        "    pos_data = pos_data.withColumn(\n",
        "        f\"{pos}_norm_score\",\n",
        "        F.round((F.col(\"median_score\") - mean_score) / stdev_score, 3)\n",
        "    )\n",
        "\n",
        "    -- Add normalized scores to main data\n",
        "    heat_map_data = heat_map_data.join(\n",
        "        pos_data.select(\"player_id\", f\"{pos}_norm_score\"),\n",
        "        on=\"player_id\",\n",
        "        how=\"left\"\n",
        "    )"
      ],
      "execution_count": null,
      "outputs": []
    },
    {
      "cell_type": "code",
      "metadata": {},
      "source": [
        "-- Calculate final score\n",
        "heat_map_data = heat_map_data.withColumn(\n",
        "    \"final_score\",\n",
        "    F.round(\n",
        "        F.greatest(\n",
        "            F.col(\"DEF_norm_score\"),\n",
        "            F.col(\"MID_norm_score\"),\n",
        "            F.col(\"RUC_norm_score\"),\n",
        "            F.col(\"FWD_norm_score\")\n",
        "        ), 4\n",
        "    )\n",
        ")"
      ],
      "execution_count": null,
      "outputs": []
    },
    {
      "cell_type": "code",
      "metadata": {},
      "source": [
        "-- Save the final dataframe as a CSV\n",
        "heat_map_data.write.csv(\"/mnt/data/2024_draft_heat_map.csv\", header=True, mode=\"overwrite\")"
      ],
      "execution_count": null,
      "outputs": []
    }
  ],
  "metadata": {
    "kernelspec": {
      "display_name": "Python 3",
      "language": "python",
      "name": "python3"
    },
    "language_info": {
      "codemirror_mode": {
        "name": "ipython",
        "version": 3
      },
      "file_extension": ".py",
      "mimetype": "text/x-python",
      "name": "python",
      "nbconvert_exporter": "python",
      "pygments_lexer": "ipython3",
      "version": "3.8.8"
    }
  },
  "nbformat": 4,
  "nbformat_minor": 5
}
