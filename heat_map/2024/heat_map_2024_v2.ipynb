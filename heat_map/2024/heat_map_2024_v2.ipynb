{
 "cells": [
  {
   "cell_type": "code",
   "execution_count": 2,
   "id": "2a90f46a",
   "metadata": {},
   "outputs": [],
   "source": [
    "# Import necessary modules\n",
    "from pyspark.sql import SparkSession\n",
    "import pandas as pd"
   ]
  },
  {
   "cell_type": "code",
   "execution_count": 3,
   "id": "5e78773d",
   "metadata": {},
   "outputs": [],
   "source": [
    "# Start Spark session\n",
    "spark = SparkSession.builder.appName(\"DraftAnalysis\").getOrCreate()"
   ]
  },
  {
   "cell_type": "code",
   "execution_count": 19,
   "id": "48327b66",
   "metadata": {},
   "outputs": [
    {
     "name": "stdout",
     "output_type": "stream",
     "text": [
      "+-------+---------+------------+-----+----+---------+--------+----------+---------------+\n",
      "|     id|league_id|user_team_id|round|pick|player_id|position|autopicked|           time|\n",
      "+-------+---------+------------+-----+----+---------+--------+----------+---------------+\n",
      "|1705893|     1283|         714|    1|   1|      695|     MID|         0|8/03/2024 13:18|\n",
      "|1705894|     1283|         719|    1|   2|      138|     DEF|         0|8/03/2024 13:18|\n",
      "|1705901|     1283|         718|    1|   3|      706|     RUC|         0|8/03/2024 13:18|\n",
      "|1705907|     1283|         717|    1|   4|      459|     MID|         0|8/03/2024 13:18|\n",
      "|1705908|     1283|         713|    1|   5|      443|     RUC|         0|8/03/2024 13:19|\n",
      "|1705909|     1283|         716|    1|   6|      197|     MID|         0|8/03/2024 13:19|\n",
      "|1705910|     1283|         715|    1|   7|      458|     MID|         0|8/03/2024 13:19|\n",
      "|1705913|     1283|         720|    1|   8|      629|     RUC|         0|8/03/2024 13:19|\n",
      "|1705915|     1283|         714|    2|   9|        9|     MID|         0|8/03/2024 13:20|\n",
      "|1705916|     1283|         719|    2|  10|      362|     MID|         0|8/03/2024 13:20|\n",
      "|1705917|     1283|         718|    2|  11|       20|     MID|         0|8/03/2024 13:20|\n",
      "|1705918|     1283|         717|    2|  12|      350|     RUC|         0|8/03/2024 13:20|\n",
      "|1705920|     1283|         713|    2|  13|      526|     MID|         0|8/03/2024 13:20|\n",
      "|1705921|     1283|         716|    2|  14|      663|     MID|         0|8/03/2024 13:20|\n",
      "|1705922|     1283|         715|    2|  15|      425|     DEF|         0|8/03/2024 13:20|\n",
      "|1705923|     1283|         720|    2|  16|      342|     DEF|         0|8/03/2024 13:20|\n",
      "|1705926|     1283|         714|    3|  17|      537|     DEF|         0|8/03/2024 13:21|\n",
      "|1705927|     1283|         719|    3|  18|      662|     RUC|         0|8/03/2024 13:21|\n",
      "|1705928|     1283|         718|    3|  19|      483|     MID|         0|8/03/2024 13:21|\n",
      "|1705929|     1283|         717|    3|  20|      717|     MID|         0|8/03/2024 13:21|\n",
      "+-------+---------+------------+-----+----+---------+--------+----------+---------------+\n",
      "only showing top 20 rows\n",
      "\n"
     ]
    }
   ],
   "source": [
    "# Load files into Spark DataFrames\n",
    "draft_data = spark.read.csv(\"2024_draft_leagues_1283_recap_combined.csv\", header=True, inferSchema=True)\n",
    "draft_data.show(20)"
   ]
  },
  {
   "cell_type": "code",
   "execution_count": 20,
   "id": "52eecad7-a177-4fc0-9dcf-67259e57aaee",
   "metadata": {},
   "outputs": [
    {
     "name": "stdout",
     "output_type": "stream",
     "text": [
      "+---+---+----------+----------+-------+--------------+----------------+--------------+-------+------+------------------------+-----------------------------+------+--------------------+------+----+--------------------+----+--------------------+-----+--------+---------+\n",
      "|_c0| id|first_name| last_name|team_id|previous_games|previous_average|previous_total|feed_id|hs_url|injury_suspension_status|injury_suspension_status_text|locked|       played_status|active|team|        player_stats|odds|           positions|notes|position|long_team|\n",
      "+---+---+----------+----------+-------+--------------+----------------+--------------+-------+------+------------------------+-----------------------------+------+--------------------+------+----+--------------------+----+--------------------+-----+--------+---------+\n",
      "|  0|  1|       Sam|     Berry|      1|             4|           50.75|           203|1012807|  NULL|                    NULL|                         NULL| false|{'status': 'pre',...|  true| ADE|[{'player_id': 1,...|  []|[{'position': 'MI...|   []|     MID| Adelaide|\n",
      "|  1|  2|      Hugh|      Bond|      1|             0|             0.0|             0|1023534|  NULL|                    NULL|                         NULL| false|{'status': 'pre',...|  true| ADE|[{'player_id': 2,...|  []|[{'position': 'DE...|   []|     DEF| Adelaide|\n",
      "|  2|  3|     James|   Borlase|      1|             4|           58.25|           233|1009029|  NULL|                    NULL|                         NULL| false|{'status': 'pre',...|  true| ADE|[{'player_id': 3,...|  []|[{'position': 'DE...|   []|     DEF| Adelaide|\n",
      "|  3|  4|     Chris|   Burgess|      1|             1|            33.0|            33|1000068|  NULL|                    NULL|                         NULL| false|{'status': 'pre',...|  true| ADE|[{'player_id': 4,...|  []|[{'position': 'FW...|   []|     FWD| Adelaide|\n",
      "|  4|  5|    Jordon|     Butts|      1|            17|           41.94|           713|1004995|  NULL|                    NULL|                         NULL| false|{'status': 'pre',...|  true| ADE|[{'player_id': 5,...|  []|[{'position': 'DE...|   []|     DEF| Adelaide|\n",
      "|  5|  6|   Brayden|      Cook|      1|             1|            70.0|            70|1018335|  NULL|                    NULL|                         NULL| false|{'status': 'pre',...|  true| ADE|[{'player_id': 6,...|  []|[{'position': 'MI...|   []|     MID| Adelaide|\n",
      "|  6|  7|      Matt|    Crouch|      1|             7|           97.57|           683| 297401|  NULL|                    NULL|                         NULL| false|{'status': 'pre',...|  true| ADE|[{'player_id': 7,...|  []|[{'position': 'MI...|   []|     MID| Adelaide|\n",
      "|  7|  8|    Daniel|    Curtin|      1|             0|             0.0|             0|1024023|  NULL|                    NULL|                         NULL| false|{'status': 'pre',...|  true| ADE|[{'player_id': 8,...|  []|[{'position': 'DE...|   []| DEF MID| Adelaide|\n",
      "|  8|  9|    Jordan|    Dawson|      1|            23|          115.87|          2665| 992242|  NULL|                    NULL|                         NULL| false|{'status': 'pre',...|  true| ADE|[{'player_id': 9,...|  []|[{'position': 'MI...|   []|     MID| Adelaide|\n",
      "|  9| 10|     Billy|   Dowling|      1|             0|             0.0|             0|1015329|  NULL|                    NULL|                         NULL| false|{'status': 'pre',...|  true| ADE|[{'player_id': 10...|  []|[{'position': 'MI...|   []| MID FWD| Adelaide|\n",
      "| 10| 11|   Charlie|   Edwards|      1|             0|             0.0|             0|1028671|  NULL|                    NULL|                         NULL| false|{'status': 'pre',...|  true| ADE|[{'player_id': 11...|  []|[{'position': 'DE...|   []| DEF MID| Adelaide|\n",
      "| 11| 12|     Darcy|   Fogarty|      1|            21|            68.1|          1430| 999331|  NULL|                    NULL|                         NULL| false|{'status': 'pre',...|  true| ADE|[{'player_id': 12...|  []|[{'position': 'FW...|   []|     FWD| Adelaide|\n",
      "| 12| 13|   Lachlan|   Gollant|      1|             4|           61.75|           247|1018075|  NULL|                    NULL|                         NULL| false|{'status': 'pre',...|  true| ADE|[{'player_id': 13...|  []|[{'position': 'FW...|   []|     FWD| Adelaide|\n",
      "| 13| 14|      Will|    Hamill|      1|             0|             0.0|             0|1008159|  NULL|                    NULL|                         NULL| false|{'status': 'pre',...|  true| ADE|[{'player_id': 14...|  []|[{'position': 'DE...|   []|     DEF| Adelaide|\n",
      "| 14| 15|   Elliott|Himmelberg|      1|             3|           52.33|           157|1005199|  NULL|                    NULL|                         NULL| false|{'status': 'pre',...|  true| ADE|[{'player_id': 15...|  []|[{'position': 'FW...|   []|     FWD| Adelaide|\n",
      "| 15| 16|  Mitchell|     Hinge|      1|            22|           84.86|          1867|1004863|  NULL|                    NULL|                         NULL| false|{'status': 'pre',...|  true| ADE|[{'player_id': 16...|  []|[{'position': 'DE...|   []|     DEF| Adelaide|\n",
      "| 16| 17|    Chayce|     Jones|      1|            18|           73.61|          1325|1006203|  NULL|                    NULL|                         NULL| false|{'status': 'pre',...|  true| ADE|[{'player_id': 17...|  []|[{'position': 'DE...|   []| DEF MID| Adelaide|\n",
      "| 17| 18|      Mark|     Keane|      1|             5|            64.8|           324|1013974|  NULL|                    NULL|                         NULL| false|{'status': 'pre',...|  true| ADE|[{'player_id': 18...|  []|[{'position': 'DE...|   []|     DEF| Adelaide|\n",
      "| 18| 19|       Ben|     Keays|      1|            23|           80.61|          1854| 993946|  NULL|                    NULL|                         NULL| false|{'status': 'pre',...|  true| ADE|[{'player_id': 19...|  []|[{'position': 'FW...|   []|     FWD| Adelaide|\n",
      "| 19| 20|      Rory|     Laird|      1|            22|          116.86|          2571| 293222|  NULL|                    NULL|                         NULL| false|{'status': 'pre',...|  true| ADE|[{'player_id': 20...|  []|[{'position': 'MI...|   []|     MID| Adelaide|\n",
      "+---+---+----------+----------+-------+--------------+----------------+--------------+-------+------+------------------------+-----------------------------+------+--------------------+------+----+--------------------+----+--------------------+-----+--------+---------+\n",
      "only showing top 20 rows\n",
      "\n"
     ]
    }
   ],
   "source": [
    "player_data = spark.read.csv(\"2024_SC_Player_list.csv\", header=True, inferSchema=True)\n",
    "player_data.show(20)"
   ]
  },
  {
   "cell_type": "code",
   "execution_count": 12,
   "id": "1d93ca92",
   "metadata": {},
   "outputs": [],
   "source": [
    "# Import functions from PySpark\n",
    "from pyspark.sql import functions as F"
   ]
  },
  {
   "cell_type": "code",
   "execution_count": 14,
   "id": "2b7af148",
   "metadata": {},
   "outputs": [
    {
     "ename": "AnalysisException",
     "evalue": "[UNRESOLVED_COLUMN.WITH_SUGGESTION] A column or function parameter with name `player_id` cannot be resolved. Did you mean one of the following? [`feed_id`, `player_stats`, `team_id`, `active`, `hs_url`].;\n'Aggregate ['player_id], ['player_id, 'percentile_approx('points, 0.5) AS median_score#371]\n+- Relation [_c0#305,id#306,first_name#307,last_name#308,team_id#309,previous_games#310,previous_average#311,previous_total#312,feed_id#313,hs_url#314,injury_suspension_status#315,injury_suspension_status_text#316,locked#317,played_status#318,active#319,team#320,player_stats#321,odds#322,positions#323,notes#324,position#325,long_team#326] csv\n",
     "output_type": "error",
     "traceback": [
      "\u001b[1;31m---------------------------------------------------------------------------\u001b[0m",
      "\u001b[1;31mAnalysisException\u001b[0m                         Traceback (most recent call last)",
      "Cell \u001b[1;32mIn[14], line 2\u001b[0m\n\u001b[0;32m      1\u001b[0m \u001b[38;5;66;03m# Calculate median score\u001b[39;00m\n\u001b[1;32m----> 2\u001b[0m median_data \u001b[38;5;241m=\u001b[39m \u001b[43mplayer_data\u001b[49m\u001b[38;5;241;43m.\u001b[39;49m\u001b[43mgroupBy\u001b[49m\u001b[43m(\u001b[49m\u001b[38;5;124;43m\"\u001b[39;49m\u001b[38;5;124;43mplayer_id\u001b[39;49m\u001b[38;5;124;43m\"\u001b[39;49m\u001b[43m)\u001b[49m\u001b[38;5;241;43m.\u001b[39;49m\u001b[43magg\u001b[49m\u001b[43m(\u001b[49m\n\u001b[0;32m      3\u001b[0m \u001b[43m    \u001b[49m\u001b[43mF\u001b[49m\u001b[38;5;241;43m.\u001b[39;49m\u001b[43mexpr\u001b[49m\u001b[43m(\u001b[49m\u001b[38;5;124;43m'\u001b[39;49m\u001b[38;5;124;43mpercentile_approx(points, 0.5)\u001b[39;49m\u001b[38;5;124;43m'\u001b[39;49m\u001b[43m)\u001b[49m\u001b[38;5;241;43m.\u001b[39;49m\u001b[43malias\u001b[49m\u001b[43m(\u001b[49m\u001b[38;5;124;43m'\u001b[39;49m\u001b[38;5;124;43mmedian_score\u001b[39;49m\u001b[38;5;124;43m'\u001b[39;49m\u001b[43m)\u001b[49m\n\u001b[0;32m      4\u001b[0m \u001b[43m)\u001b[49m\u001b[38;5;241m.\u001b[39morderBy(F\u001b[38;5;241m.\u001b[39mdesc(\u001b[38;5;124m'\u001b[39m\u001b[38;5;124mmedian_score\u001b[39m\u001b[38;5;124m'\u001b[39m))\n\u001b[0;32m      6\u001b[0m \u001b[38;5;66;03m# Replace NA values with 0\u001b[39;00m\n\u001b[0;32m      7\u001b[0m median_data \u001b[38;5;241m=\u001b[39m median_data\u001b[38;5;241m.\u001b[39mfillna({\u001b[38;5;124m'\u001b[39m\u001b[38;5;124mmedian_score\u001b[39m\u001b[38;5;124m'\u001b[39m: \u001b[38;5;241m0\u001b[39m})\n",
      "File \u001b[1;32m~\\AppData\\Local\\anaconda3\\lib\\site-packages\\pyspark\\sql\\group.py:186\u001b[0m, in \u001b[0;36mGroupedData.agg\u001b[1;34m(self, *exprs)\u001b[0m\n\u001b[0;32m    184\u001b[0m     \u001b[38;5;28;01massert\u001b[39;00m \u001b[38;5;28mall\u001b[39m(\u001b[38;5;28misinstance\u001b[39m(c, Column) \u001b[38;5;28;01mfor\u001b[39;00m c \u001b[38;5;129;01min\u001b[39;00m exprs), \u001b[38;5;124m\"\u001b[39m\u001b[38;5;124mall exprs should be Column\u001b[39m\u001b[38;5;124m\"\u001b[39m\n\u001b[0;32m    185\u001b[0m     exprs \u001b[38;5;241m=\u001b[39m cast(Tuple[Column, \u001b[38;5;241m.\u001b[39m\u001b[38;5;241m.\u001b[39m\u001b[38;5;241m.\u001b[39m], exprs)\n\u001b[1;32m--> 186\u001b[0m     jdf \u001b[38;5;241m=\u001b[39m \u001b[38;5;28;43mself\u001b[39;49m\u001b[38;5;241;43m.\u001b[39;49m\u001b[43m_jgd\u001b[49m\u001b[38;5;241;43m.\u001b[39;49m\u001b[43magg\u001b[49m\u001b[43m(\u001b[49m\u001b[43mexprs\u001b[49m\u001b[43m[\u001b[49m\u001b[38;5;241;43m0\u001b[39;49m\u001b[43m]\u001b[49m\u001b[38;5;241;43m.\u001b[39;49m\u001b[43m_jc\u001b[49m\u001b[43m,\u001b[49m\u001b[43m \u001b[49m\u001b[43m_to_seq\u001b[49m\u001b[43m(\u001b[49m\u001b[38;5;28;43mself\u001b[39;49m\u001b[38;5;241;43m.\u001b[39;49m\u001b[43msession\u001b[49m\u001b[38;5;241;43m.\u001b[39;49m\u001b[43m_sc\u001b[49m\u001b[43m,\u001b[49m\u001b[43m \u001b[49m\u001b[43m[\u001b[49m\u001b[43mc\u001b[49m\u001b[38;5;241;43m.\u001b[39;49m\u001b[43m_jc\u001b[49m\u001b[43m \u001b[49m\u001b[38;5;28;43;01mfor\u001b[39;49;00m\u001b[43m \u001b[49m\u001b[43mc\u001b[49m\u001b[43m \u001b[49m\u001b[38;5;129;43;01min\u001b[39;49;00m\u001b[43m \u001b[49m\u001b[43mexprs\u001b[49m\u001b[43m[\u001b[49m\u001b[38;5;241;43m1\u001b[39;49m\u001b[43m:\u001b[49m\u001b[43m]\u001b[49m\u001b[43m]\u001b[49m\u001b[43m)\u001b[49m\u001b[43m)\u001b[49m\n\u001b[0;32m    187\u001b[0m \u001b[38;5;28;01mreturn\u001b[39;00m DataFrame(jdf, \u001b[38;5;28mself\u001b[39m\u001b[38;5;241m.\u001b[39msession)\n",
      "File \u001b[1;32m~\\AppData\\Local\\anaconda3\\lib\\site-packages\\py4j\\java_gateway.py:1322\u001b[0m, in \u001b[0;36mJavaMember.__call__\u001b[1;34m(self, *args)\u001b[0m\n\u001b[0;32m   1316\u001b[0m command \u001b[38;5;241m=\u001b[39m proto\u001b[38;5;241m.\u001b[39mCALL_COMMAND_NAME \u001b[38;5;241m+\u001b[39m\\\n\u001b[0;32m   1317\u001b[0m     \u001b[38;5;28mself\u001b[39m\u001b[38;5;241m.\u001b[39mcommand_header \u001b[38;5;241m+\u001b[39m\\\n\u001b[0;32m   1318\u001b[0m     args_command \u001b[38;5;241m+\u001b[39m\\\n\u001b[0;32m   1319\u001b[0m     proto\u001b[38;5;241m.\u001b[39mEND_COMMAND_PART\n\u001b[0;32m   1321\u001b[0m answer \u001b[38;5;241m=\u001b[39m \u001b[38;5;28mself\u001b[39m\u001b[38;5;241m.\u001b[39mgateway_client\u001b[38;5;241m.\u001b[39msend_command(command)\n\u001b[1;32m-> 1322\u001b[0m return_value \u001b[38;5;241m=\u001b[39m \u001b[43mget_return_value\u001b[49m\u001b[43m(\u001b[49m\n\u001b[0;32m   1323\u001b[0m \u001b[43m    \u001b[49m\u001b[43manswer\u001b[49m\u001b[43m,\u001b[49m\u001b[43m \u001b[49m\u001b[38;5;28;43mself\u001b[39;49m\u001b[38;5;241;43m.\u001b[39;49m\u001b[43mgateway_client\u001b[49m\u001b[43m,\u001b[49m\u001b[43m \u001b[49m\u001b[38;5;28;43mself\u001b[39;49m\u001b[38;5;241;43m.\u001b[39;49m\u001b[43mtarget_id\u001b[49m\u001b[43m,\u001b[49m\u001b[43m \u001b[49m\u001b[38;5;28;43mself\u001b[39;49m\u001b[38;5;241;43m.\u001b[39;49m\u001b[43mname\u001b[49m\u001b[43m)\u001b[49m\n\u001b[0;32m   1325\u001b[0m \u001b[38;5;28;01mfor\u001b[39;00m temp_arg \u001b[38;5;129;01min\u001b[39;00m temp_args:\n\u001b[0;32m   1326\u001b[0m     \u001b[38;5;28;01mif\u001b[39;00m \u001b[38;5;28mhasattr\u001b[39m(temp_arg, \u001b[38;5;124m\"\u001b[39m\u001b[38;5;124m_detach\u001b[39m\u001b[38;5;124m\"\u001b[39m):\n",
      "File \u001b[1;32m~\\AppData\\Local\\anaconda3\\lib\\site-packages\\pyspark\\errors\\exceptions\\captured.py:185\u001b[0m, in \u001b[0;36mcapture_sql_exception.<locals>.deco\u001b[1;34m(*a, **kw)\u001b[0m\n\u001b[0;32m    181\u001b[0m converted \u001b[38;5;241m=\u001b[39m convert_exception(e\u001b[38;5;241m.\u001b[39mjava_exception)\n\u001b[0;32m    182\u001b[0m \u001b[38;5;28;01mif\u001b[39;00m \u001b[38;5;129;01mnot\u001b[39;00m \u001b[38;5;28misinstance\u001b[39m(converted, UnknownException):\n\u001b[0;32m    183\u001b[0m     \u001b[38;5;66;03m# Hide where the exception came from that shows a non-Pythonic\u001b[39;00m\n\u001b[0;32m    184\u001b[0m     \u001b[38;5;66;03m# JVM exception message.\u001b[39;00m\n\u001b[1;32m--> 185\u001b[0m     \u001b[38;5;28;01mraise\u001b[39;00m converted \u001b[38;5;28;01mfrom\u001b[39;00m \u001b[38;5;28mNone\u001b[39m\n\u001b[0;32m    186\u001b[0m \u001b[38;5;28;01melse\u001b[39;00m:\n\u001b[0;32m    187\u001b[0m     \u001b[38;5;28;01mraise\u001b[39;00m\n",
      "\u001b[1;31mAnalysisException\u001b[0m: [UNRESOLVED_COLUMN.WITH_SUGGESTION] A column or function parameter with name `player_id` cannot be resolved. Did you mean one of the following? [`feed_id`, `player_stats`, `team_id`, `active`, `hs_url`].;\n'Aggregate ['player_id], ['player_id, 'percentile_approx('points, 0.5) AS median_score#371]\n+- Relation [_c0#305,id#306,first_name#307,last_name#308,team_id#309,previous_games#310,previous_average#311,previous_total#312,feed_id#313,hs_url#314,injury_suspension_status#315,injury_suspension_status_text#316,locked#317,played_status#318,active#319,team#320,player_stats#321,odds#322,positions#323,notes#324,position#325,long_team#326] csv\n"
     ]
    }
   ],
   "source": [
    "# Calculate median score\n",
    "median_data = player_data.groupBy(\"player_id\").agg(\n",
    "    F.expr('percentile_approx(points, 0.5)').alias('median_score')\n",
    ").orderBy(F.desc('median_score'))\n",
    "\n",
    "# Replace NA values with 0\n",
    "median_data = median_data.fillna({'median_score': 0})"
   ]
  },
  {
   "cell_type": "code",
   "execution_count": null,
   "id": "6936b4c3",
   "metadata": {},
   "outputs": [],
   "source": [
    "# Join dataframes\n",
    "heat_map_data = draft_data.join(\n",
    "    median_data, draft_data[\"player_id\"] == median_data[\"player_id\"], \"left\"\n",
    ")"
   ]
  },
  {
   "cell_type": "code",
   "execution_count": null,
   "id": "c05143af",
   "metadata": {},
   "outputs": [],
   "source": [
    "# Normalize scores by position\n",
    "positions = ['DEF', 'MID', 'RUC', 'FWD']\n",
    "pos_count = [8*5, 8*7, 8*1, 8*5]\n",
    "\n",
    "for i, pos in enumerate(positions):\n",
    "    pos_data = heat_map_data.filter(\n",
    "        (heat_map_data[\"pos_1\"] == pos) | (heat_map_data[\"pos_2\"] == pos)\n",
    "    ).orderBy(F.desc('median_score'))\n",
    "\n",
    "    mean_score = pos_data.select(F.mean(\"median_score\")).collect()[0][0]\n",
    "    stdev_score = pos_data.select(F.stddev(\"median_score\")).collect()[0][0]\n",
    "\n",
    "    -- Calculate normalized scores\n",
    "    pos_data = pos_data.withColumn(\n",
    "        f\"{pos}_norm_score\",\n",
    "        F.round((F.col(\"median_score\") - mean_score) / stdev_score, 3)\n",
    "    )\n",
    "\n",
    "    -- Add normalized scores to main data\n",
    "    heat_map_data = heat_map_data.join(\n",
    "        pos_data.select(\"player_id\", f\"{pos}_norm_score\"),\n",
    "        on=\"player_id\",\n",
    "        how=\"left\"\n",
    "    )"
   ]
  },
  {
   "cell_type": "code",
   "execution_count": null,
   "id": "aecc9a21",
   "metadata": {},
   "outputs": [],
   "source": [
    "# Calculate final score\n",
    "heat_map_data = heat_map_data.withColumn(\n",
    "    \"final_score\",\n",
    "    F.round(\n",
    "        F.greatest(\n",
    "            F.col(\"DEF_norm_score\"),\n",
    "            F.col(\"MID_norm_score\"),\n",
    "            F.col(\"RUC_norm_score\"),\n",
    "            F.col(\"FWD_norm_score\")\n",
    "        ), 4\n",
    "    )\n",
    ")"
   ]
  },
  {
   "cell_type": "code",
   "execution_count": null,
   "id": "dce1e5e7",
   "metadata": {},
   "outputs": [],
   "source": [
    "# Save the final dataframe as a CSV\n",
    "heat_map_data.write.csv(\"/mnt/data/2024_draft_heat_map.csv\", header=True, mode=\"overwrite\")"
   ]
  }
 ],
 "metadata": {
  "kernelspec": {
   "display_name": "Python 3 (ipykernel)",
   "language": "python",
   "name": "python3"
  },
  "language_info": {
   "codemirror_mode": {
    "name": "ipython",
    "version": 3
   },
   "file_extension": ".py",
   "mimetype": "text/x-python",
   "name": "python",
   "nbconvert_exporter": "python",
   "pygments_lexer": "ipython3",
   "version": "3.10.9"
  }
 },
 "nbformat": 4,
 "nbformat_minor": 5
}
